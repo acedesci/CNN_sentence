{
  "nbformat": 4,
  "nbformat_minor": 0,
  "metadata": {
    "colab": {
      "name": "S8_Module1_Retail_Demand_Model.ipynb",
      "provenance": [],
      "collapsed_sections": [],
      "include_colab_link": true
    },
    "kernelspec": {
      "name": "python3",
      "display_name": "Python 3"
    }
  },
  "cells": [
    {
      "cell_type": "markdown",
      "metadata": {
        "id": "view-in-github",
        "colab_type": "text"
      },
      "source": [
        "<a href=\"https://colab.research.google.com/github/acedesci/CNN_sentence/blob/master/S8_9_retail_analytics/S8_Module1_Retail_Demand_Model.ipynb\" target=\"_parent\"><img src=\"https://colab.research.google.com/assets/colab-badge.svg\" alt=\"Open In Colab\"/></a>"
      ]
    },
    {
      "cell_type": "code",
      "metadata": {
        "id": "I2Sn0n-ZUc_E",
        "colab_type": "code",
        "colab": {}
      },
      "source": [
        "import pandas\n",
        "import sklearn\n",
        "import numpy\n",
        "from sklearn import *"
      ],
      "execution_count": 0,
      "outputs": []
    },
    {
      "cell_type": "markdown",
      "metadata": {
        "id": "QlQhM_WLYBFb",
        "colab_type": "text"
      },
      "source": [
        "Import data\n",
        "\n",
        "- here we can try to split data into different product groups -"
      ]
    },
    {
      "cell_type": "code",
      "metadata": {
        "id": "nllChVoSUtNy",
        "colab_type": "code",
        "outputId": "fe016f7e-f790-4e89-98c1-b5649fc004eb",
        "colab": {
          "base_uri": "https://localhost:8080/",
          "height": 462
        }
      },
      "source": [
        "url = 'https://raw.githubusercontent.com/acedesci/scanalytics/master/S8_9_retail_analytics/salesCereals.csv'\n",
        "\n",
        "salesCereals = pandas.read_csv(url)\n",
        "salesCereals['PRICE_p2'] = salesCereals['PRICE']**2\n",
        "salesCereals.head()"
      ],
      "execution_count": 35,
      "outputs": [
        {
          "output_type": "execute_result",
          "data": {
            "text/html": [
              "<div>\n",
              "<style scoped>\n",
              "    .dataframe tbody tr th:only-of-type {\n",
              "        vertical-align: middle;\n",
              "    }\n",
              "\n",
              "    .dataframe tbody tr th {\n",
              "        vertical-align: top;\n",
              "    }\n",
              "\n",
              "    .dataframe thead th {\n",
              "        text-align: right;\n",
              "    }\n",
              "</style>\n",
              "<table border=\"1\" class=\"dataframe\">\n",
              "  <thead>\n",
              "    <tr style=\"text-align: right;\">\n",
              "      <th></th>\n",
              "      <th>Unnamed: 0</th>\n",
              "      <th>WEEK_END_DATE</th>\n",
              "      <th>STORE_NUM</th>\n",
              "      <th>UPC</th>\n",
              "      <th>UNITS</th>\n",
              "      <th>VISITS</th>\n",
              "      <th>HHS</th>\n",
              "      <th>SPEND</th>\n",
              "      <th>PRICE</th>\n",
              "      <th>BASE_PRICE</th>\n",
              "      <th>FEATURE</th>\n",
              "      <th>DISPLAY</th>\n",
              "      <th>TPR_ONLY</th>\n",
              "      <th>Desc</th>\n",
              "      <th>Category</th>\n",
              "      <th>Sub-Category</th>\n",
              "      <th>SUMPRICE</th>\n",
              "      <th>COUNTPRICE</th>\n",
              "      <th>AVGPRICE</th>\n",
              "      <th>RELPRICE</th>\n",
              "      <th>PRICE_p2</th>\n",
              "    </tr>\n",
              "  </thead>\n",
              "  <tbody>\n",
              "    <tr>\n",
              "      <th>0</th>\n",
              "      <td>6</td>\n",
              "      <td>2009-01-14</td>\n",
              "      <td>367.0</td>\n",
              "      <td>1111085319</td>\n",
              "      <td>14.0</td>\n",
              "      <td>13.0</td>\n",
              "      <td>13.0</td>\n",
              "      <td>26.32</td>\n",
              "      <td>1.88</td>\n",
              "      <td>1.88</td>\n",
              "      <td>0.0</td>\n",
              "      <td>0.0</td>\n",
              "      <td>0.0</td>\n",
              "      <td>PL HONEY NUT TOASTD OATS</td>\n",
              "      <td>COLD CEREAL</td>\n",
              "      <td>ALL FAMILY CEREAL</td>\n",
              "      <td>19.54</td>\n",
              "      <td>7</td>\n",
              "      <td>2.791429</td>\n",
              "      <td>0.673490</td>\n",
              "      <td>3.5344</td>\n",
              "    </tr>\n",
              "    <tr>\n",
              "      <th>1</th>\n",
              "      <td>8</td>\n",
              "      <td>2009-01-14</td>\n",
              "      <td>367.0</td>\n",
              "      <td>1111085350</td>\n",
              "      <td>35.0</td>\n",
              "      <td>27.0</td>\n",
              "      <td>25.0</td>\n",
              "      <td>69.30</td>\n",
              "      <td>1.98</td>\n",
              "      <td>1.98</td>\n",
              "      <td>0.0</td>\n",
              "      <td>0.0</td>\n",
              "      <td>0.0</td>\n",
              "      <td>PL BT SZ FRSTD SHRD WHT</td>\n",
              "      <td>COLD CEREAL</td>\n",
              "      <td>ALL FAMILY CEREAL</td>\n",
              "      <td>19.54</td>\n",
              "      <td>7</td>\n",
              "      <td>2.791429</td>\n",
              "      <td>0.709314</td>\n",
              "      <td>3.9204</td>\n",
              "    </tr>\n",
              "    <tr>\n",
              "      <th>2</th>\n",
              "      <td>12</td>\n",
              "      <td>2009-01-14</td>\n",
              "      <td>367.0</td>\n",
              "      <td>1600027527</td>\n",
              "      <td>12.0</td>\n",
              "      <td>10.0</td>\n",
              "      <td>10.0</td>\n",
              "      <td>38.28</td>\n",
              "      <td>3.19</td>\n",
              "      <td>3.19</td>\n",
              "      <td>0.0</td>\n",
              "      <td>0.0</td>\n",
              "      <td>0.0</td>\n",
              "      <td>GM HONEY NUT CHEERIOS</td>\n",
              "      <td>COLD CEREAL</td>\n",
              "      <td>ALL FAMILY CEREAL</td>\n",
              "      <td>19.54</td>\n",
              "      <td>7</td>\n",
              "      <td>2.791429</td>\n",
              "      <td>1.142784</td>\n",
              "      <td>10.1761</td>\n",
              "    </tr>\n",
              "    <tr>\n",
              "      <th>3</th>\n",
              "      <td>13</td>\n",
              "      <td>2009-01-14</td>\n",
              "      <td>367.0</td>\n",
              "      <td>1600027528</td>\n",
              "      <td>31.0</td>\n",
              "      <td>26.0</td>\n",
              "      <td>19.0</td>\n",
              "      <td>142.29</td>\n",
              "      <td>4.59</td>\n",
              "      <td>4.59</td>\n",
              "      <td>0.0</td>\n",
              "      <td>0.0</td>\n",
              "      <td>0.0</td>\n",
              "      <td>GM CHEERIOS</td>\n",
              "      <td>COLD CEREAL</td>\n",
              "      <td>ALL FAMILY CEREAL</td>\n",
              "      <td>19.54</td>\n",
              "      <td>7</td>\n",
              "      <td>2.791429</td>\n",
              "      <td>1.644319</td>\n",
              "      <td>21.0681</td>\n",
              "    </tr>\n",
              "    <tr>\n",
              "      <th>4</th>\n",
              "      <td>14</td>\n",
              "      <td>2009-01-14</td>\n",
              "      <td>367.0</td>\n",
              "      <td>1600027564</td>\n",
              "      <td>56.0</td>\n",
              "      <td>48.0</td>\n",
              "      <td>42.0</td>\n",
              "      <td>152.32</td>\n",
              "      <td>2.72</td>\n",
              "      <td>3.07</td>\n",
              "      <td>1.0</td>\n",
              "      <td>0.0</td>\n",
              "      <td>0.0</td>\n",
              "      <td>GM CHEERIOS</td>\n",
              "      <td>COLD CEREAL</td>\n",
              "      <td>ALL FAMILY CEREAL</td>\n",
              "      <td>19.54</td>\n",
              "      <td>7</td>\n",
              "      <td>2.791429</td>\n",
              "      <td>0.974411</td>\n",
              "      <td>7.3984</td>\n",
              "    </tr>\n",
              "  </tbody>\n",
              "</table>\n",
              "</div>"
            ],
            "text/plain": [
              "   Unnamed: 0 WEEK_END_DATE  STORE_NUM  ...  AVGPRICE  RELPRICE  PRICE_p2\n",
              "0           6    2009-01-14      367.0  ...  2.791429  0.673490    3.5344\n",
              "1           8    2009-01-14      367.0  ...  2.791429  0.709314    3.9204\n",
              "2          12    2009-01-14      367.0  ...  2.791429  1.142784   10.1761\n",
              "3          13    2009-01-14      367.0  ...  2.791429  1.644319   21.0681\n",
              "4          14    2009-01-14      367.0  ...  2.791429  0.974411    7.3984\n",
              "\n",
              "[5 rows x 21 columns]"
            ]
          },
          "metadata": {
            "tags": []
          },
          "execution_count": 35
        }
      ]
    },
    {
      "cell_type": "code",
      "metadata": {
        "id": "2iMU7G0yVeWk",
        "colab_type": "code",
        "outputId": "bc0875fe-7493-4252-c1c9-d232cc042a22",
        "colab": {
          "base_uri": "https://localhost:8080/",
          "height": 221
        }
      },
      "source": [
        "print(salesCereals.groupby('UPC').count())\n",
        "print(len(salesCereals['WEEK_END_DATE'].unique()))"
      ],
      "execution_count": 36,
      "outputs": [
        {
          "output_type": "stream",
          "text": [
            "            Unnamed: 0  WEEK_END_DATE  STORE_NUM  ...  AVGPRICE  RELPRICE  PRICE_p2\n",
            "UPC                                               ...                              \n",
            "1111085319         156            156        156  ...       156       156       156\n",
            "1111085350         156            156        156  ...       156       156       156\n",
            "1600027527         156            156        156  ...       156       156       156\n",
            "1600027528         156            156        156  ...       156       156       156\n",
            "1600027564         155            155        155  ...       155       155       155\n",
            "3000006340         133            133        133  ...       133       133       133\n",
            "3800031829         155            155        155  ...       155       155       155\n",
            "\n",
            "[7 rows x 20 columns]\n",
            "156\n"
          ],
          "name": "stdout"
        }
      ]
    },
    {
      "cell_type": "code",
      "metadata": {
        "id": "0QmdVdfaX_jK",
        "colab_type": "code",
        "outputId": "eb51dc2d-5655-40cc-9b3b-2be839487cd0",
        "colab": {
          "base_uri": "https://localhost:8080/",
          "height": 51
        }
      },
      "source": [
        "feature_list = ['PRICE', 'PRICE_p2', 'FEATURE', 'DISPLAY','TPR_ONLY','RELPRICE']\n",
        "\n",
        "productList = salesCereals['UPC'].unique()\n",
        "print(productList)\n",
        "\n",
        "X, X_train, X_test = {}, {}, {}\n",
        "y, y_train, y_test, y_pred = {}, {}, {}, {}\n",
        "\n",
        "for upc in productList:\n",
        "  \n",
        "  X[upc] = salesCereals.loc[salesCereals['UPC']==upc][feature_list]\n",
        "  y[upc] = salesCereals.loc[salesCereals['UPC']==upc]['UNITS']\n",
        "  # Split into training and testing data\n",
        "  X_train[upc], X_test[upc], y_train[upc], y_test[upc] = sklearn.model_selection.train_test_split(X[upc], y[upc], test_size=0.25, random_state=0)\n",
        "  "
      ],
      "execution_count": 37,
      "outputs": [
        {
          "output_type": "stream",
          "text": [
            "[1111085319 1111085350 1600027527 1600027528 1600027564 3000006340\n",
            " 3800031829]\n"
          ],
          "name": "stdout"
        }
      ]
    },
    {
      "cell_type": "code",
      "metadata": {
        "id": "THvq_pEyerzL",
        "colab_type": "code",
        "outputId": "9906d926-efa6-434f-8c17-0375a2861f26",
        "colab": {
          "base_uri": "https://localhost:8080/",
          "height": 221
        }
      },
      "source": [
        "#Linear model\n",
        "regr = {}\n",
        "regrSummary = pandas.DataFrame(columns=['MAE','MAPE', 'RMSE'], index = productList)\n",
        "\n",
        "for upc in productList:\n",
        "    regr[upc] = sklearn.linear_model.LinearRegression().fit(X_train[upc],y_train[upc])\n",
        "    y_pred[upc] = regr[upc].predict(X_test[upc])\n",
        "    \n",
        "    testMAE = sklearn.metrics.mean_absolute_error(y_test[upc], y_pred[upc])\n",
        "    testMAPE = numpy.mean(numpy.abs((y_test[upc] - y_pred[upc]) / y_test[upc]))\n",
        "    testRMSE = numpy.sqrt(sklearn.metrics.mean_squared_error(y_test[upc], y_pred[upc]))\n",
        "    regrSummary.loc[k] =  [testMAE, testMAPE, testRMSE]\n",
        "\n",
        "print('Linear Regression Summary')\n",
        "print(regrSummary)\n",
        "print('average MAE:' + str(round(regrSummary['MAE'].mean(),2)))\n",
        "print('average MAPE:' + str(round(regrSummary['MAPE'].mean(),2)))\n",
        "print('average RMSE:' + str(round(regrSummary['RMSE'].mean(),2)))"
      ],
      "execution_count": 38,
      "outputs": [
        {
          "output_type": "stream",
          "text": [
            "Linear Regression Summary\n",
            "                MAE      MAPE     RMSE\n",
            "1111085319      NaN       NaN      NaN\n",
            "1111085350      NaN       NaN      NaN\n",
            "1600027527      NaN       NaN      NaN\n",
            "1600027528      NaN       NaN      NaN\n",
            "1600027564      NaN       NaN      NaN\n",
            "3000006340      NaN       NaN      NaN\n",
            "3800031829  6.57475  0.379121  8.51852\n",
            "average MAE:6.57\n",
            "average MAPE:0.38\n",
            "average RMSE:8.52\n"
          ],
          "name": "stdout"
        }
      ]
    },
    {
      "cell_type": "code",
      "metadata": {
        "id": "m0wTwOc5eZxD",
        "colab_type": "code",
        "outputId": "88e49a64-2635-4650-aa15-f08ef0b8670a",
        "colab": {
          "base_uri": "https://localhost:8080/",
          "height": 221
        }
      },
      "source": [
        "#Tree model\n",
        "regr = {}\n",
        "regrSummary = pandas.DataFrame(columns=['MAE','MAPE', 'RMSE'], index = productList)\n",
        "\n",
        "for upc in productList:\n",
        "      \n",
        "    regr[upc] = tree.DecisionTreeRegressor(random_state = 0).fit(X_train[upc],y_train[upc])\n",
        "    y_pred[upc] = regr[upc].predict(X_test[upc])\n",
        "\n",
        "    testMAE = sklearn.metrics.mean_absolute_error(y_test[upc], y_pred[upc])\n",
        "    testMAPE = numpy.mean(numpy.abs((y_test[upc] - y_pred[upc]) / y_test[upc]))\n",
        "    testRMSE = numpy.sqrt(sklearn.metrics.mean_squared_error(y_test[upc], y_pred[upc]))\n",
        "    regrSummary.loc[upc] =  [testMAE, testMAPE, testRMSE]\n",
        "\n",
        "print('Regression Tree Summary')\n",
        "print(regrSummary)\n",
        "print('average MAE:' + str(round(regrSummary['MAE'].mean(),2)))\n",
        "print('average MAPE:' + str(round(regrSummary['MAPE'].mean(),2)))\n",
        "print('average RMSE:' + str(round(regrSummary['RMSE'].mean(),2)))"
      ],
      "execution_count": 41,
      "outputs": [
        {
          "output_type": "stream",
          "text": [
            "Regression Tree Summary\n",
            "                MAE      MAPE     RMSE\n",
            "1111085319  7.10256  0.841491  10.7596\n",
            "1111085350  5.92308  0.625815  7.47131\n",
            "1600027527  15.5641  0.520292  30.3302\n",
            "1600027528  8.64103  0.286716   13.221\n",
            "1600027564  7.89744   0.38854  10.4538\n",
            "3000006340      4.5  0.992923  7.76209\n",
            "3800031829  7.48718  0.421318  9.13152\n",
            "average MAE:8.16\n",
            "average MAPE:0.58\n",
            "average RMSE:12.73\n"
          ],
          "name": "stdout"
        }
      ]
    },
    {
      "cell_type": "code",
      "metadata": {
        "id": "MYP8W-Gjt5q_",
        "colab_type": "code",
        "colab": {
          "base_uri": "https://localhost:8080/",
          "height": 34
        },
        "outputId": "d24184a1-7c4a-47ae-f27a-6121e0706a24"
      },
      "source": [
        "import pickle\n",
        "\n",
        "from google.colab import drive\n",
        "drive.mount('/content/drive')\n"
      ],
      "execution_count": 42,
      "outputs": [
        {
          "output_type": "stream",
          "text": [
            "Drive already mounted at /content/drive; to attempt to forcibly remount, call drive.mount(\"/content/drive\", force_remount=True).\n"
          ],
          "name": "stdout"
        }
      ]
    },
    {
      "cell_type": "code",
      "metadata": {
        "id": "wsJ0pDjnrnKv",
        "colab_type": "code",
        "colab": {
          "base_uri": "https://localhost:8080/",
          "height": 272
        },
        "outputId": "f34de4c6-e02b-49ae-cefc-3c1e708e105b"
      },
      "source": [
        "predDemand = pandas.read_csv(cwd + 'predictionInput_Prob1.csv')\n",
        "print(predDemand)"
      ],
      "execution_count": 47,
      "outputs": [
        {
          "output_type": "stream",
          "text": [
            "    Unnamed: 0  avgPriceChoice         UPC  ...  DISPLAY  TPR_ONLY  RELPRICE\n",
            "0            0             3.0  1600027528  ...        1         1  0.833333\n",
            "1            1             3.0  1600027528  ...        1         1  1.000000\n",
            "2            2             3.0  1600027528  ...        1         1  1.166667\n",
            "3            3             3.0  1600027564  ...        1         1  0.833333\n",
            "4            4             3.0  1600027564  ...        1         1  1.000000\n",
            "5            5             3.0  1600027564  ...        1         1  1.166667\n",
            "6            6             3.0  3000006340  ...        1         1  0.833333\n",
            "7            7             3.0  3000006340  ...        1         1  1.000000\n",
            "8            8             3.0  3000006340  ...        1         1  1.166667\n",
            "9            9             3.0  3800031829  ...        1         1  0.833333\n",
            "10          10             3.0  3800031829  ...        1         1  1.000000\n",
            "11          11             3.0  3800031829  ...        1         1  1.166667\n",
            "\n",
            "[12 rows x 9 columns]\n"
          ],
          "name": "stdout"
        }
      ]
    },
    {
      "cell_type": "code",
      "metadata": {
        "id": "RKe05zvqrote",
        "colab_type": "code",
        "colab": {
          "base_uri": "https://localhost:8080/",
          "height": 238
        },
        "outputId": "38691353-52ad-4946-9560-21e9ae9a45fd"
      },
      "source": [
        "X = {}\n",
        "y_pred = {}\n",
        "predictedValueSeries = pandas.Series()\n",
        "productList = predDemand['UPC'].unique()\n",
        "\n",
        "for upc in productList:\n",
        "  X[upc] = predDemand.loc[predDemand['UPC']==upc][feature_list] \n",
        "  # print(X[upc])\n",
        "  upcIndex = predDemand.loc[predDemand['UPC']==upc].index\n",
        "  y_pred[upc] = regr[upc].predict(X[upc]).clip(0)\n",
        "\n",
        "  predictedValueSeries = predictedValueSeries.append(pandas.Series(y_pred[upc], index = upcIndex))\n",
        "\n",
        "predDemand['predictSales'] = predictedValueSeries\n",
        "print(predDemand.to_string())"
      ],
      "execution_count": 50,
      "outputs": [
        {
          "output_type": "stream",
          "text": [
            "    Unnamed: 0  avgPriceChoice         UPC  PRICE  PRICE_p2  FEATURE  DISPLAY  TPR_ONLY  RELPRICE  predictSales\n",
            "0            0             3.0  1600027528    2.5      6.25        1        1         1  0.833333          76.0\n",
            "1            1             3.0  1600027528    3.0      9.00        1        1         1  1.000000          57.0\n",
            "2            2             3.0  1600027528    3.5     12.25        1        1         1  1.166667          59.0\n",
            "3            3             3.0  1600027564    2.5      6.25        1        1         1  0.833333          70.0\n",
            "4            4             3.0  1600027564    3.0      9.00        1        1         1  1.000000          58.0\n",
            "5            5             3.0  1600027564    3.5     12.25        1        1         1  1.166667          58.0\n",
            "6            6             3.0  3000006340    2.5      6.25        1        1         1  0.833333          24.0\n",
            "7            7             3.0  3000006340    3.0      9.00        1        1         1  1.000000           5.0\n",
            "8            8             3.0  3000006340    3.5     12.25        1        1         1  1.166667           5.0\n",
            "9            9             3.0  3800031829    2.5      6.25        1        1         1  0.833333          75.0\n",
            "10          10             3.0  3800031829    3.0      9.00        1        1         1  1.000000          38.0\n",
            "11          11             3.0  3800031829    3.5     12.25        1        1         1  1.166667          43.0\n"
          ],
          "name": "stdout"
        }
      ]
    },
    {
      "cell_type": "code",
      "metadata": {
        "id": "Su2CN-yUCMF8",
        "colab_type": "code",
        "colab": {}
      },
      "source": [
        "cwd = '/content/drive/My Drive/'\n",
        "for k in productList:\n",
        "    regr[k] = sklearn.linear_model.LinearRegression().fit(X[k],y[k])\n",
        "    filename = cwd+str(k)+'_demand_model.sav'\n",
        "    pickle.dump(regr[k], open(filename, 'wb'))"
      ],
      "execution_count": 0,
      "outputs": []
    },
    {
      "cell_type": "code",
      "metadata": {
        "id": "vJoSKYiBelNo",
        "colab_type": "code",
        "colab": {
          "base_uri": "https://localhost:8080/",
          "height": 136
        },
        "outputId": "e4bccbd7-c8db-4ad8-ee59-910f66ab80dc"
      },
      "source": [
        "import pickle\n",
        "regr = {}\n",
        "for upc in productList:\n",
        "    filename = cwd+str(upc)+'_demand_model.sav'\n",
        "    print(filename)\n",
        "    # load the model from disk\n",
        "    regr[upc] = pickle.load(open(filename, 'rb'))"
      ],
      "execution_count": 20,
      "outputs": [
        {
          "output_type": "stream",
          "text": [
            "/content/drive/My Drive/1111085319_demand_model.sav\n",
            "/content/drive/My Drive/1111085350_demand_model.sav\n",
            "/content/drive/My Drive/1600027527_demand_model.sav\n",
            "/content/drive/My Drive/1600027528_demand_model.sav\n",
            "/content/drive/My Drive/1600027564_demand_model.sav\n",
            "/content/drive/My Drive/3000006340_demand_model.sav\n",
            "/content/drive/My Drive/3800031829_demand_model.sav\n"
          ],
          "name": "stdout"
        }
      ]
    }
  ]
}