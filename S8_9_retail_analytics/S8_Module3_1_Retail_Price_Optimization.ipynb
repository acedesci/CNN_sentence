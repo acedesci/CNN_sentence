{
  "nbformat": 4,
  "nbformat_minor": 0,
  "metadata": {
    "colab": {
      "name": "S8_Module3.1_Retail_Price_Optimization.ipynb",
      "provenance": [],
      "authorship_tag": "ABX9TyOG6NrGaioubi7Ip443pCBv",
      "include_colab_link": true
    },
    "kernelspec": {
      "name": "python3",
      "display_name": "Python 3"
    }
  },
  "cells": [
    {
      "cell_type": "markdown",
      "metadata": {
        "id": "view-in-github",
        "colab_type": "text"
      },
      "source": [
        "<a href=\"https://colab.research.google.com/github/acedesci/CNN_sentence/blob/master/S8_9_retail_analytics/S8_Module3_1_Retail_Price_Optimization.ipynb\" target=\"_parent\"><img src=\"https://colab.research.google.com/assets/colab-badge.svg\" alt=\"Open In Colab\"/></a>"
      ]
    },
    {
      "cell_type": "code",
      "metadata": {
        "id": "zdvWKIywwi4_",
        "colab_type": "code",
        "colab": {
          "base_uri": "https://localhost:8080/",
          "height": 442
        },
        "outputId": "c2ec3811-afdd-4c06-fecd-b517a5e7a354"
      },
      "source": [
        "# Install Pyomo and GLPK\n",
        "!pip install -q pyomo\n",
        "!apt-get install -y -qq glpk-utils"
      ],
      "execution_count": 18,
      "outputs": [
        {
          "output_type": "stream",
          "text": [
            "Selecting previously unselected package libsuitesparseconfig5:amd64.\n",
            "(Reading database ... 134443 files and directories currently installed.)\n",
            "Preparing to unpack .../libsuitesparseconfig5_1%3a5.1.2-2_amd64.deb ...\n",
            "Unpacking libsuitesparseconfig5:amd64 (1:5.1.2-2) ...\n",
            "Selecting previously unselected package libamd2:amd64.\n",
            "Preparing to unpack .../libamd2_1%3a5.1.2-2_amd64.deb ...\n",
            "Unpacking libamd2:amd64 (1:5.1.2-2) ...\n",
            "Selecting previously unselected package libcolamd2:amd64.\n",
            "Preparing to unpack .../libcolamd2_1%3a5.1.2-2_amd64.deb ...\n",
            "Unpacking libcolamd2:amd64 (1:5.1.2-2) ...\n",
            "Selecting previously unselected package libglpk40:amd64.\n",
            "Preparing to unpack .../libglpk40_4.65-1_amd64.deb ...\n",
            "Unpacking libglpk40:amd64 (4.65-1) ...\n",
            "Selecting previously unselected package glpk-utils.\n",
            "Preparing to unpack .../glpk-utils_4.65-1_amd64.deb ...\n",
            "Unpacking glpk-utils (4.65-1) ...\n",
            "Setting up libsuitesparseconfig5:amd64 (1:5.1.2-2) ...\n",
            "Setting up libcolamd2:amd64 (1:5.1.2-2) ...\n",
            "Setting up libamd2:amd64 (1:5.1.2-2) ...\n",
            "Setting up libglpk40:amd64 (4.65-1) ...\n",
            "Setting up glpk-utils (4.65-1) ...\n",
            "Processing triggers for libc-bin (2.27-3ubuntu1) ...\n",
            "/sbin/ldconfig.real: /usr/local/lib/python3.6/dist-packages/ideep4py/lib/libmkldnn.so.0 is not a symbolic link\n",
            "\n",
            "Processing triggers for man-db (2.8.3-2ubuntu0.1) ...\n"
          ],
          "name": "stdout"
        }
      ]
    },
    {
      "cell_type": "code",
      "metadata": {
        "id": "scZFGWSlDi3L",
        "colab_type": "code",
        "colab": {
          "base_uri": "https://localhost:8080/",
          "height": 442
        },
        "outputId": "27f980c6-fa0d-423d-aa36-170e784d0f96"
      },
      "source": [
        "from pyomo.environ import *\n",
        "\n",
        "productList = ['1600027528', '1600027564', '3000006340', '3800031829']\n",
        "priceList = [2.5, 3.0, 3.5]\n",
        "\n",
        "iIndexList = list(range(len(productList)))\n",
        "pIndexList = list(range(len(priceList)))\n",
        "\n",
        "model = ConcreteModel()\n",
        "# Variables\n",
        "model.x = Var(iIndexList, pIndexList, within = Binary)\n",
        "model.pprint()"
      ],
      "execution_count": 22,
      "outputs": [
        {
          "output_type": "stream",
          "text": [
            "3 Set Declarations\n",
            "    x_index : Dim=0, Dimen=2, Size=12, Domain=None, Ordered=False, Bounds=None\n",
            "        Virtual\n",
            "    x_index_0 : Dim=0, Dimen=1, Size=4, Domain=None, Ordered=False, Bounds=(0, 3)\n",
            "        [0, 1, 2, 3]\n",
            "    x_index_1 : Dim=0, Dimen=1, Size=3, Domain=None, Ordered=False, Bounds=(0, 2)\n",
            "        [0, 1, 2]\n",
            "\n",
            "1 Var Declarations\n",
            "    x : Size=12, Index=x_index\n",
            "        Key    : Lower : Value : Upper : Fixed : Stale : Domain\n",
            "        (0, 0) :     0 :  None :     1 : False :  True : Binary\n",
            "        (0, 1) :     0 :  None :     1 : False :  True : Binary\n",
            "        (0, 2) :     0 :  None :     1 : False :  True : Binary\n",
            "        (1, 0) :     0 :  None :     1 : False :  True : Binary\n",
            "        (1, 1) :     0 :  None :     1 : False :  True : Binary\n",
            "        (1, 2) :     0 :  None :     1 : False :  True : Binary\n",
            "        (2, 0) :     0 :  None :     1 : False :  True : Binary\n",
            "        (2, 1) :     0 :  None :     1 : False :  True : Binary\n",
            "        (2, 2) :     0 :  None :     1 : False :  True : Binary\n",
            "        (3, 0) :     0 :  None :     1 : False :  True : Binary\n",
            "        (3, 1) :     0 :  None :     1 : False :  True : Binary\n",
            "        (3, 2) :     0 :  None :     1 : False :  True : Binary\n",
            "\n",
            "4 Declarations: x_index_0 x_index_1 x_index x\n"
          ],
          "name": "stdout"
        }
      ]
    },
    {
      "cell_type": "code",
      "metadata": {
        "id": "RY6Vi1TE5ztC",
        "colab_type": "code",
        "colab": {
          "base_uri": "https://localhost:8080/",
          "height": 547
        },
        "outputId": "092e3e56-adb0-464f-f92a-5025365a881a"
      },
      "source": [
        "# Objective function\n",
        "\n",
        "model.OBJ = Objective(expr = 2.5*101.9*model.x[0,0] + 3.0*74.0*model.x[0,1] + 3.5*53.4*model.x[0,2] \n",
        "                      + 2.5*55.1*model.x[1,0] + 3.0*53.6*model.x[1,1] + 3.5*50.8*model.x[1,2]  \n",
        "                      + 2.5*18.2*model.x[2,0] + 3.0*15.9*model.x[2,1] + 3.5*15.0*model.x[2,2]  \n",
        "                      + 2.5*62.0*model.x[3,0] + 3.0*53.4*model.x[3,1] + 3.5*49.5*model.x[3,2])\n",
        "\n",
        "model.pprint()"
      ],
      "execution_count": 23,
      "outputs": [
        {
          "output_type": "stream",
          "text": [
            "3 Set Declarations\n",
            "    x_index : Dim=0, Dimen=2, Size=12, Domain=None, Ordered=False, Bounds=None\n",
            "        Virtual\n",
            "    x_index_0 : Dim=0, Dimen=1, Size=4, Domain=None, Ordered=False, Bounds=(0, 3)\n",
            "        [0, 1, 2, 3]\n",
            "    x_index_1 : Dim=0, Dimen=1, Size=3, Domain=None, Ordered=False, Bounds=(0, 2)\n",
            "        [0, 1, 2]\n",
            "\n",
            "1 Var Declarations\n",
            "    x : Size=12, Index=x_index\n",
            "        Key    : Lower : Value : Upper : Fixed : Stale : Domain\n",
            "        (0, 0) :     0 :  None :     1 : False :  True : Binary\n",
            "        (0, 1) :     0 :  None :     1 : False :  True : Binary\n",
            "        (0, 2) :     0 :  None :     1 : False :  True : Binary\n",
            "        (1, 0) :     0 :  None :     1 : False :  True : Binary\n",
            "        (1, 1) :     0 :  None :     1 : False :  True : Binary\n",
            "        (1, 2) :     0 :  None :     1 : False :  True : Binary\n",
            "        (2, 0) :     0 :  None :     1 : False :  True : Binary\n",
            "        (2, 1) :     0 :  None :     1 : False :  True : Binary\n",
            "        (2, 2) :     0 :  None :     1 : False :  True : Binary\n",
            "        (3, 0) :     0 :  None :     1 : False :  True : Binary\n",
            "        (3, 1) :     0 :  None :     1 : False :  True : Binary\n",
            "        (3, 2) :     0 :  None :     1 : False :  True : Binary\n",
            "\n",
            "1 Objective Declarations\n",
            "    OBJ : Size=1, Index=None, Active=True\n",
            "        Key  : Active : Sense    : Expression\n",
            "        None :   True : minimize : 254.75*x[0,0] + 222.0*x[0,1] + 186.9*x[0,2] + 137.75*x[1,0] + 160.8*x[1,1] + 177.79999999999998*x[1,2] + 45.5*x[2,0] + 47.7*x[2,1] + 52.5*x[2,2] + 155.0*x[3,0] + 160.2*x[3,1] + 173.25*x[3,2]\n",
            "\n",
            "5 Declarations: x_index_0 x_index_1 x_index x OBJ\n"
          ],
          "name": "stdout"
        }
      ]
    },
    {
      "cell_type": "code",
      "metadata": {
        "id": "_-J1E9CayDY-",
        "colab_type": "code",
        "colab": {
          "base_uri": "https://localhost:8080/",
          "height": 785
        },
        "outputId": "de09e8d5-9366-4e7f-85b9-51d3d2b60290"
      },
      "source": [
        "# Constraints #1\n",
        "model.PriceChoiceUPC1 = Constraint(expr = model.x[0,0] + model.x[0,1] + model.x[0,2] == 1)\n",
        "model.PriceChoiceUPC2 = Constraint(expr = model.x[1,0] + model.x[1,1] + model.x[1,2] == 1)\n",
        "model.PriceChoiceUPC3 = Constraint(expr = model.x[2,0] + model.x[2,1] + model.x[2,2] == 1)\n",
        "model.PriceChoiceUPC4 = Constraint(expr = model.x[3,0] + model.x[3,1] + model.x[3,2] == 1)\n",
        "model.pprint()"
      ],
      "execution_count": 24,
      "outputs": [
        {
          "output_type": "stream",
          "text": [
            "3 Set Declarations\n",
            "    x_index : Dim=0, Dimen=2, Size=12, Domain=None, Ordered=False, Bounds=None\n",
            "        Virtual\n",
            "    x_index_0 : Dim=0, Dimen=1, Size=4, Domain=None, Ordered=False, Bounds=(0, 3)\n",
            "        [0, 1, 2, 3]\n",
            "    x_index_1 : Dim=0, Dimen=1, Size=3, Domain=None, Ordered=False, Bounds=(0, 2)\n",
            "        [0, 1, 2]\n",
            "\n",
            "1 Var Declarations\n",
            "    x : Size=12, Index=x_index\n",
            "        Key    : Lower : Value : Upper : Fixed : Stale : Domain\n",
            "        (0, 0) :     0 :  None :     1 : False :  True : Binary\n",
            "        (0, 1) :     0 :  None :     1 : False :  True : Binary\n",
            "        (0, 2) :     0 :  None :     1 : False :  True : Binary\n",
            "        (1, 0) :     0 :  None :     1 : False :  True : Binary\n",
            "        (1, 1) :     0 :  None :     1 : False :  True : Binary\n",
            "        (1, 2) :     0 :  None :     1 : False :  True : Binary\n",
            "        (2, 0) :     0 :  None :     1 : False :  True : Binary\n",
            "        (2, 1) :     0 :  None :     1 : False :  True : Binary\n",
            "        (2, 2) :     0 :  None :     1 : False :  True : Binary\n",
            "        (3, 0) :     0 :  None :     1 : False :  True : Binary\n",
            "        (3, 1) :     0 :  None :     1 : False :  True : Binary\n",
            "        (3, 2) :     0 :  None :     1 : False :  True : Binary\n",
            "\n",
            "1 Objective Declarations\n",
            "    OBJ : Size=1, Index=None, Active=True\n",
            "        Key  : Active : Sense    : Expression\n",
            "        None :   True : minimize : 254.75*x[0,0] + 222.0*x[0,1] + 186.9*x[0,2] + 137.75*x[1,0] + 160.8*x[1,1] + 177.79999999999998*x[1,2] + 45.5*x[2,0] + 47.7*x[2,1] + 52.5*x[2,2] + 155.0*x[3,0] + 160.2*x[3,1] + 173.25*x[3,2]\n",
            "\n",
            "4 Constraint Declarations\n",
            "    PriceChoiceUPC1 : Size=1, Index=None, Active=True\n",
            "        Key  : Lower : Body                     : Upper : Active\n",
            "        None :   1.0 : x[0,0] + x[0,1] + x[0,2] :   1.0 :   True\n",
            "    PriceChoiceUPC2 : Size=1, Index=None, Active=True\n",
            "        Key  : Lower : Body                     : Upper : Active\n",
            "        None :   1.0 : x[1,0] + x[1,1] + x[1,2] :   1.0 :   True\n",
            "    PriceChoiceUPC3 : Size=1, Index=None, Active=True\n",
            "        Key  : Lower : Body                     : Upper : Active\n",
            "        None :   1.0 : x[2,0] + x[2,1] + x[2,2] :   1.0 :   True\n",
            "    PriceChoiceUPC4 : Size=1, Index=None, Active=True\n",
            "        Key  : Lower : Body                     : Upper : Active\n",
            "        None :   1.0 : x[3,0] + x[3,1] + x[3,2] :   1.0 :   True\n",
            "\n",
            "9 Declarations: x_index_0 x_index_1 x_index x OBJ PriceChoiceUPC1 PriceChoiceUPC2 PriceChoiceUPC3 PriceChoiceUPC4\n"
          ],
          "name": "stdout"
        }
      ]
    },
    {
      "cell_type": "code",
      "metadata": {
        "id": "prKy0fAE6hTd",
        "colab_type": "code",
        "colab": {
          "base_uri": "https://localhost:8080/",
          "height": 836
        },
        "outputId": "ba8b56fe-ce19-42e6-ea0e-c734f8c6e5a6"
      },
      "source": [
        "# Constraints #2\n",
        "\n",
        "model.sumPrice = Constraint(expr = 2.5*model.x[0,0] + 3.0*model.x[0,1] + 3.5*model.x[0,2] \n",
        "                      + 2.5*model.x[1,0] + 3.0*model.x[1,1] + 3.5*model.x[1,2]  \n",
        "                      + 2.5*model.x[2,0] + 3.0*model.x[2,1] + 3.5*model.x[2,2]  \n",
        "                      + 2.5*model.x[3,0] + 3.0*model.x[3,1] + 3.5*model.x[3,2] == 3.0*4)\n",
        "\n",
        "model.pprint()"
      ],
      "execution_count": 25,
      "outputs": [
        {
          "output_type": "stream",
          "text": [
            "3 Set Declarations\n",
            "    x_index : Dim=0, Dimen=2, Size=12, Domain=None, Ordered=False, Bounds=None\n",
            "        Virtual\n",
            "    x_index_0 : Dim=0, Dimen=1, Size=4, Domain=None, Ordered=False, Bounds=(0, 3)\n",
            "        [0, 1, 2, 3]\n",
            "    x_index_1 : Dim=0, Dimen=1, Size=3, Domain=None, Ordered=False, Bounds=(0, 2)\n",
            "        [0, 1, 2]\n",
            "\n",
            "1 Var Declarations\n",
            "    x : Size=12, Index=x_index\n",
            "        Key    : Lower : Value : Upper : Fixed : Stale : Domain\n",
            "        (0, 0) :     0 :  None :     1 : False :  True : Binary\n",
            "        (0, 1) :     0 :  None :     1 : False :  True : Binary\n",
            "        (0, 2) :     0 :  None :     1 : False :  True : Binary\n",
            "        (1, 0) :     0 :  None :     1 : False :  True : Binary\n",
            "        (1, 1) :     0 :  None :     1 : False :  True : Binary\n",
            "        (1, 2) :     0 :  None :     1 : False :  True : Binary\n",
            "        (2, 0) :     0 :  None :     1 : False :  True : Binary\n",
            "        (2, 1) :     0 :  None :     1 : False :  True : Binary\n",
            "        (2, 2) :     0 :  None :     1 : False :  True : Binary\n",
            "        (3, 0) :     0 :  None :     1 : False :  True : Binary\n",
            "        (3, 1) :     0 :  None :     1 : False :  True : Binary\n",
            "        (3, 2) :     0 :  None :     1 : False :  True : Binary\n",
            "\n",
            "1 Objective Declarations\n",
            "    OBJ : Size=1, Index=None, Active=True\n",
            "        Key  : Active : Sense    : Expression\n",
            "        None :   True : minimize : 254.75*x[0,0] + 222.0*x[0,1] + 186.9*x[0,2] + 137.75*x[1,0] + 160.8*x[1,1] + 177.79999999999998*x[1,2] + 45.5*x[2,0] + 47.7*x[2,1] + 52.5*x[2,2] + 155.0*x[3,0] + 160.2*x[3,1] + 173.25*x[3,2]\n",
            "\n",
            "5 Constraint Declarations\n",
            "    PriceChoiceUPC1 : Size=1, Index=None, Active=True\n",
            "        Key  : Lower : Body                     : Upper : Active\n",
            "        None :   1.0 : x[0,0] + x[0,1] + x[0,2] :   1.0 :   True\n",
            "    PriceChoiceUPC2 : Size=1, Index=None, Active=True\n",
            "        Key  : Lower : Body                     : Upper : Active\n",
            "        None :   1.0 : x[1,0] + x[1,1] + x[1,2] :   1.0 :   True\n",
            "    PriceChoiceUPC3 : Size=1, Index=None, Active=True\n",
            "        Key  : Lower : Body                     : Upper : Active\n",
            "        None :   1.0 : x[2,0] + x[2,1] + x[2,2] :   1.0 :   True\n",
            "    PriceChoiceUPC4 : Size=1, Index=None, Active=True\n",
            "        Key  : Lower : Body                     : Upper : Active\n",
            "        None :   1.0 : x[3,0] + x[3,1] + x[3,2] :   1.0 :   True\n",
            "    sumPrice : Size=1, Index=None, Active=True\n",
            "        Key  : Lower : Body                                                                                                                                                      : Upper : Active\n",
            "        None :  12.0 : 2.5*x[0,0] + 3.0*x[0,1] + 3.5*x[0,2] + 2.5*x[1,0] + 3.0*x[1,1] + 3.5*x[1,2] + 2.5*x[2,0] + 3.0*x[2,1] + 3.5*x[2,2] + 2.5*x[3,0] + 3.0*x[3,1] + 3.5*x[3,2] :  12.0 :   True\n",
            "\n",
            "10 Declarations: x_index_0 x_index_1 x_index x OBJ PriceChoiceUPC1 PriceChoiceUPC2 PriceChoiceUPC3 PriceChoiceUPC4 sumPrice\n"
          ],
          "name": "stdout"
        }
      ]
    },
    {
      "cell_type": "code",
      "metadata": {
        "id": "a0KA-DNX8RqA",
        "colab_type": "code",
        "colab": {
          "base_uri": "https://localhost:8080/",
          "height": 680
        },
        "outputId": "623795aa-5199-419e-887c-1092f9ab2a77"
      },
      "source": [
        "# Solve the model\n",
        "\n",
        "opt = SolverFactory('glpk')\n",
        "opt.solve(model) \n",
        "\n",
        "model.display()"
      ],
      "execution_count": 26,
      "outputs": [
        {
          "output_type": "stream",
          "text": [
            "Model unknown\n",
            "\n",
            "  Variables:\n",
            "    x : Size=12, Index=x_index\n",
            "        Key    : Lower : Value : Upper : Fixed : Stale : Domain\n",
            "        (0, 0) :     0 :   0.0 :     1 : False : False : Binary\n",
            "        (0, 1) :     0 :   0.0 :     1 : False : False : Binary\n",
            "        (0, 2) :     0 :   1.0 :     1 : False : False : Binary\n",
            "        (1, 0) :     0 :   1.0 :     1 : False : False : Binary\n",
            "        (1, 1) :     0 :   0.0 :     1 : False : False : Binary\n",
            "        (1, 2) :     0 :   0.0 :     1 : False : False : Binary\n",
            "        (2, 0) :     0 :   0.0 :     1 : False : False : Binary\n",
            "        (2, 1) :     0 :   0.0 :     1 : False : False : Binary\n",
            "        (2, 2) :     0 :   1.0 :     1 : False : False : Binary\n",
            "        (3, 0) :     0 :   1.0 :     1 : False : False : Binary\n",
            "        (3, 1) :     0 :   0.0 :     1 : False : False : Binary\n",
            "        (3, 2) :     0 :   0.0 :     1 : False : False : Binary\n",
            "\n",
            "  Objectives:\n",
            "    OBJ : Size=1, Index=None, Active=True\n",
            "        Key  : Active : Value\n",
            "        None :   True : 532.15\n",
            "\n",
            "  Constraints:\n",
            "    PriceChoiceUPC1 : Size=1\n",
            "        Key  : Lower : Body : Upper\n",
            "        None :   1.0 :  1.0 :   1.0\n",
            "    PriceChoiceUPC2 : Size=1\n",
            "        Key  : Lower : Body : Upper\n",
            "        None :   1.0 :  1.0 :   1.0\n",
            "    PriceChoiceUPC3 : Size=1\n",
            "        Key  : Lower : Body : Upper\n",
            "        None :   1.0 :  1.0 :   1.0\n",
            "    PriceChoiceUPC4 : Size=1\n",
            "        Key  : Lower : Body : Upper\n",
            "        None :   1.0 :  1.0 :   1.0\n",
            "    sumPrice : Size=1\n",
            "        Key  : Lower : Body : Upper\n",
            "        None :  12.0 : 12.0 :  12.0\n"
          ],
          "name": "stdout"
        }
      ]
    }
  ]
}